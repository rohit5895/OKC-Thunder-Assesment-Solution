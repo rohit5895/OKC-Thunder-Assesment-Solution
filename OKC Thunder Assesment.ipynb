{
 "cells": [
  {
   "cell_type": "code",
   "execution_count": 1,
   "id": "2fc6bed4",
   "metadata": {},
   "outputs": [],
   "source": [
    "import pandas as pd"
   ]
  },
  {
   "cell_type": "code",
   "execution_count": 2,
   "id": "5cf7df07",
   "metadata": {},
   "outputs": [],
   "source": [
    "df = pd.read_csv('shots_data.csv')"
   ]
  },
  {
   "cell_type": "code",
   "execution_count": 3,
   "id": "b796b516",
   "metadata": {},
   "outputs": [
    {
     "data": {
      "text/html": [
       "<div>\n",
       "<style scoped>\n",
       "    .dataframe tbody tr th:only-of-type {\n",
       "        vertical-align: middle;\n",
       "    }\n",
       "\n",
       "    .dataframe tbody tr th {\n",
       "        vertical-align: top;\n",
       "    }\n",
       "\n",
       "    .dataframe thead th {\n",
       "        text-align: right;\n",
       "    }\n",
       "</style>\n",
       "<table border=\"1\" class=\"dataframe\">\n",
       "  <thead>\n",
       "    <tr style=\"text-align: right;\">\n",
       "      <th></th>\n",
       "      <th>team</th>\n",
       "      <th>x</th>\n",
       "      <th>y</th>\n",
       "      <th>fgmade</th>\n",
       "    </tr>\n",
       "  </thead>\n",
       "  <tbody>\n",
       "    <tr>\n",
       "      <th>0</th>\n",
       "      <td>Team A</td>\n",
       "      <td>-5.0</td>\n",
       "      <td>26.4</td>\n",
       "      <td>0</td>\n",
       "    </tr>\n",
       "    <tr>\n",
       "      <th>1</th>\n",
       "      <td>Team A</td>\n",
       "      <td>-0.8</td>\n",
       "      <td>1.2</td>\n",
       "      <td>1</td>\n",
       "    </tr>\n",
       "    <tr>\n",
       "      <th>2</th>\n",
       "      <td>Team A</td>\n",
       "      <td>-13.9</td>\n",
       "      <td>9.5</td>\n",
       "      <td>1</td>\n",
       "    </tr>\n",
       "    <tr>\n",
       "      <th>3</th>\n",
       "      <td>Team A</td>\n",
       "      <td>-5.4</td>\n",
       "      <td>26.2</td>\n",
       "      <td>0</td>\n",
       "    </tr>\n",
       "    <tr>\n",
       "      <th>4</th>\n",
       "      <td>Team A</td>\n",
       "      <td>-4.9</td>\n",
       "      <td>14.5</td>\n",
       "      <td>1</td>\n",
       "    </tr>\n",
       "    <tr>\n",
       "      <th>...</th>\n",
       "      <td>...</td>\n",
       "      <td>...</td>\n",
       "      <td>...</td>\n",
       "      <td>...</td>\n",
       "    </tr>\n",
       "    <tr>\n",
       "      <th>499</th>\n",
       "      <td>Team B</td>\n",
       "      <td>-0.5</td>\n",
       "      <td>2.2</td>\n",
       "      <td>0</td>\n",
       "    </tr>\n",
       "    <tr>\n",
       "      <th>500</th>\n",
       "      <td>Team B</td>\n",
       "      <td>3.5</td>\n",
       "      <td>7.6</td>\n",
       "      <td>0</td>\n",
       "    </tr>\n",
       "    <tr>\n",
       "      <th>501</th>\n",
       "      <td>Team B</td>\n",
       "      <td>0.2</td>\n",
       "      <td>8.8</td>\n",
       "      <td>0</td>\n",
       "    </tr>\n",
       "    <tr>\n",
       "      <th>502</th>\n",
       "      <td>Team B</td>\n",
       "      <td>-0.6</td>\n",
       "      <td>0.7</td>\n",
       "      <td>1</td>\n",
       "    </tr>\n",
       "    <tr>\n",
       "      <th>503</th>\n",
       "      <td>Team B</td>\n",
       "      <td>-0.3</td>\n",
       "      <td>3.6</td>\n",
       "      <td>0</td>\n",
       "    </tr>\n",
       "  </tbody>\n",
       "</table>\n",
       "<p>504 rows × 4 columns</p>\n",
       "</div>"
      ],
      "text/plain": [
       "       team     x     y  fgmade\n",
       "0    Team A  -5.0  26.4       0\n",
       "1    Team A  -0.8   1.2       1\n",
       "2    Team A -13.9   9.5       1\n",
       "3    Team A  -5.4  26.2       0\n",
       "4    Team A  -4.9  14.5       1\n",
       "..      ...   ...   ...     ...\n",
       "499  Team B  -0.5   2.2       0\n",
       "500  Team B   3.5   7.6       0\n",
       "501  Team B   0.2   8.8       0\n",
       "502  Team B  -0.6   0.7       1\n",
       "503  Team B  -0.3   3.6       0\n",
       "\n",
       "[504 rows x 4 columns]"
      ]
     },
     "execution_count": 3,
     "metadata": {},
     "output_type": "execute_result"
    }
   ],
   "source": [
    "df"
   ]
  },
  {
   "cell_type": "code",
   "execution_count": 4,
   "id": "57b78339",
   "metadata": {},
   "outputs": [
    {
     "data": {
      "text/plain": [
       "(504, 4)"
      ]
     },
     "execution_count": 4,
     "metadata": {},
     "output_type": "execute_result"
    }
   ],
   "source": [
    "df.shape"
   ]
  },
  {
   "cell_type": "code",
   "execution_count": 5,
   "id": "b61b7697",
   "metadata": {},
   "outputs": [
    {
     "data": {
      "text/plain": [
       "array(['Team A', 'Team B'], dtype=object)"
      ]
     },
     "execution_count": 5,
     "metadata": {},
     "output_type": "execute_result"
    }
   ],
   "source": [
    "df['team'].unique()"
   ]
  },
  {
   "cell_type": "code",
   "execution_count": 6,
   "id": "072b5b0d",
   "metadata": {},
   "outputs": [
    {
     "data": {
      "text/plain": [
       "<seaborn.axisgrid.FacetGrid at 0x7f930839e700>"
      ]
     },
     "execution_count": 6,
     "metadata": {},
     "output_type": "execute_result"
    },
    {
     "data": {
      "image/png": "[encoded data removed]",
      "text/plain": [
       "<Figure size 401.875x360 with 1 Axes>"
      ]
     },
     "metadata": {
      "needs_background": "light"
     },
     "output_type": "display_data"
    }
   ],
   "source": [
    "import seaborn as sns\n",
    "sns.displot(df[['x', 'y']])"
   ]
  },
  {
   "cell_type": "markdown",
   "id": "fe828652",
   "metadata": {},
   "source": [
    "# Classifying each shot of the Dataset into Zones"
   ]
  },
  {
   "cell_type": "code",
   "execution_count": 7,
   "id": "2f4b42a2",
   "metadata": {},
   "outputs": [],
   "source": [
    "def get_shotzone(dframe):\n",
    "    zone = {}\n",
    "    for shot in range(0, dframe.shape[0]):\n",
    "        if ((dframe['y'][shot]**2 + dframe['x'][shot]**2)**0.5 < 23.75 and dframe['y'][shot]>7.8):\n",
    "            zone[shot] = '2PT'\n",
    "        if (dframe['x'][shot]<22 or dframe['x'][shot] >-22) and dframe['y'][shot]<=7.8:\n",
    "            zone[shot] = '2PT'\n",
    "        if (dframe['y'][shot]**2 + dframe['x'][shot]**2)**0.5 >= 23.75 and dframe['y'][shot]>7.8:\n",
    "            zone[shot] = 'NC3'\n",
    "        if (dframe['x'][shot]>=22 or dframe['x'][shot]<=-22) and dframe['y'][shot]<=7.8:\n",
    "            zone[shot] = 'C3'\n",
    "    return list(dict(sorted(zone.items())).values())"
   ]
  },
  {
   "cell_type": "code",
   "execution_count": 8,
   "id": "1428adc1",
   "metadata": {},
   "outputs": [],
   "source": [
    "df['Zone'] = get_shotzone(df)"
   ]
  },
  {
   "cell_type": "code",
   "execution_count": 9,
   "id": "06c504b6",
   "metadata": {},
   "outputs": [
    {
     "data": {
      "text/html": [
       "<div>\n",
       "<style scoped>\n",
       "    .dataframe tbody tr th:only-of-type {\n",
       "        vertical-align: middle;\n",
       "    }\n",
       "\n",
       "    .dataframe tbody tr th {\n",
       "        vertical-align: top;\n",
       "    }\n",
       "\n",
       "    .dataframe thead th {\n",
       "        text-align: right;\n",
       "    }\n",
       "</style>\n",
       "<table border=\"1\" class=\"dataframe\">\n",
       "  <thead>\n",
       "    <tr style=\"text-align: right;\">\n",
       "      <th></th>\n",
       "      <th>team</th>\n",
       "      <th>x</th>\n",
       "      <th>y</th>\n",
       "      <th>fgmade</th>\n",
       "      <th>Zone</th>\n",
       "    </tr>\n",
       "  </thead>\n",
       "  <tbody>\n",
       "    <tr>\n",
       "      <th>0</th>\n",
       "      <td>Team A</td>\n",
       "      <td>-5.0</td>\n",
       "      <td>26.4</td>\n",
       "      <td>0</td>\n",
       "      <td>NC3</td>\n",
       "    </tr>\n",
       "    <tr>\n",
       "      <th>1</th>\n",
       "      <td>Team A</td>\n",
       "      <td>-0.8</td>\n",
       "      <td>1.2</td>\n",
       "      <td>1</td>\n",
       "      <td>2PT</td>\n",
       "    </tr>\n",
       "    <tr>\n",
       "      <th>2</th>\n",
       "      <td>Team A</td>\n",
       "      <td>-13.9</td>\n",
       "      <td>9.5</td>\n",
       "      <td>1</td>\n",
       "      <td>2PT</td>\n",
       "    </tr>\n",
       "    <tr>\n",
       "      <th>3</th>\n",
       "      <td>Team A</td>\n",
       "      <td>-5.4</td>\n",
       "      <td>26.2</td>\n",
       "      <td>0</td>\n",
       "      <td>NC3</td>\n",
       "    </tr>\n",
       "    <tr>\n",
       "      <th>4</th>\n",
       "      <td>Team A</td>\n",
       "      <td>-4.9</td>\n",
       "      <td>14.5</td>\n",
       "      <td>1</td>\n",
       "      <td>2PT</td>\n",
       "    </tr>\n",
       "    <tr>\n",
       "      <th>...</th>\n",
       "      <td>...</td>\n",
       "      <td>...</td>\n",
       "      <td>...</td>\n",
       "      <td>...</td>\n",
       "      <td>...</td>\n",
       "    </tr>\n",
       "    <tr>\n",
       "      <th>499</th>\n",
       "      <td>Team B</td>\n",
       "      <td>-0.5</td>\n",
       "      <td>2.2</td>\n",
       "      <td>0</td>\n",
       "      <td>2PT</td>\n",
       "    </tr>\n",
       "    <tr>\n",
       "      <th>500</th>\n",
       "      <td>Team B</td>\n",
       "      <td>3.5</td>\n",
       "      <td>7.6</td>\n",
       "      <td>0</td>\n",
       "      <td>2PT</td>\n",
       "    </tr>\n",
       "    <tr>\n",
       "      <th>501</th>\n",
       "      <td>Team B</td>\n",
       "      <td>0.2</td>\n",
       "      <td>8.8</td>\n",
       "      <td>0</td>\n",
       "      <td>2PT</td>\n",
       "    </tr>\n",
       "    <tr>\n",
       "      <th>502</th>\n",
       "      <td>Team B</td>\n",
       "      <td>-0.6</td>\n",
       "      <td>0.7</td>\n",
       "      <td>1</td>\n",
       "      <td>2PT</td>\n",
       "    </tr>\n",
       "    <tr>\n",
       "      <th>503</th>\n",
       "      <td>Team B</td>\n",
       "      <td>-0.3</td>\n",
       "      <td>3.6</td>\n",
       "      <td>0</td>\n",
       "      <td>2PT</td>\n",
       "    </tr>\n",
       "  </tbody>\n",
       "</table>\n",
       "<p>504 rows × 5 columns</p>\n",
       "</div>"
      ],
      "text/plain": [
       "       team     x     y  fgmade Zone\n",
       "0    Team A  -5.0  26.4       0  NC3\n",
       "1    Team A  -0.8   1.2       1  2PT\n",
       "2    Team A -13.9   9.5       1  2PT\n",
       "3    Team A  -5.4  26.2       0  NC3\n",
       "4    Team A  -4.9  14.5       1  2PT\n",
       "..      ...   ...   ...     ...  ...\n",
       "499  Team B  -0.5   2.2       0  2PT\n",
       "500  Team B   3.5   7.6       0  2PT\n",
       "501  Team B   0.2   8.8       0  2PT\n",
       "502  Team B  -0.6   0.7       1  2PT\n",
       "503  Team B  -0.3   3.6       0  2PT\n",
       "\n",
       "[504 rows x 5 columns]"
      ]
     },
     "execution_count": 9,
     "metadata": {},
     "output_type": "execute_result"
    }
   ],
   "source": [
    "df"
   ]
  },
  {
   "cell_type": "code",
   "execution_count": 10,
   "id": "836019e1",
   "metadata": {},
   "outputs": [
    {
     "data": {
      "text/plain": [
       "2PT    344\n",
       "NC3    130\n",
       "C3      30\n",
       "Name: Zone, dtype: int64"
      ]
     },
     "execution_count": 10,
     "metadata": {},
     "output_type": "execute_result"
    }
   ],
   "source": [
    "df['Zone'].value_counts()"
   ]
  },
  {
   "cell_type": "markdown",
   "id": "ca02482e",
   "metadata": {},
   "source": [
    "# Calculation of Metrics"
   ]
  },
  {
   "cell_type": "markdown",
   "id": "44e870c9",
   "metadata": {},
   "source": [
    "### Shots Attepmted by Team, Zone and FGmade "
   ]
  },
  {
   "cell_type": "code",
   "execution_count": 11,
   "id": "d9b0cee1",
   "metadata": {},
   "outputs": [],
   "source": [
    "zone_count_fgmade = df.groupby(['team','Zone','fgmade']).count()['x']"
   ]
  },
  {
   "cell_type": "code",
   "execution_count": 12,
   "id": "114aaa85",
   "metadata": {},
   "outputs": [
    {
     "data": {
      "text/plain": [
       "team    Zone  fgmade\n",
       "Team A  2PT   0         99\n",
       "              1         95\n",
       "        C3    0          9\n",
       "              1          9\n",
       "        NC3   0         47\n",
       "              1         21\n",
       "Team B  2PT   0         83\n",
       "              1         67\n",
       "        C3    0          8\n",
       "              1          4\n",
       "        NC3   0         41\n",
       "              1         21\n",
       "Name: x, dtype: int64"
      ]
     },
     "execution_count": 12,
     "metadata": {},
     "output_type": "execute_result"
    }
   ],
   "source": [
    "zone_count_fgmade"
   ]
  },
  {
   "cell_type": "code",
   "execution_count": 13,
   "id": "aff0c2dd",
   "metadata": {},
   "outputs": [
    {
     "data": {
      "text/plain": [
       "Zone  fgmade\n",
       "2PT   0         99\n",
       "      1         95\n",
       "C3    0          9\n",
       "      1          9\n",
       "NC3   0         47\n",
       "      1         21\n",
       "Name: x, dtype: int64"
      ]
     },
     "execution_count": 13,
     "metadata": {},
     "output_type": "execute_result"
    }
   ],
   "source": [
    "zone_count_fgmade['Team A']"
   ]
  },
  {
   "cell_type": "markdown",
   "id": "abd0f38f",
   "metadata": {},
   "source": [
    "### Attempts by Team and Zone"
   ]
  },
  {
   "cell_type": "code",
   "execution_count": 14,
   "id": "6fddc59c",
   "metadata": {},
   "outputs": [],
   "source": [
    "zone_count_attempts = df.groupby(['team','Zone']).count()['x']"
   ]
  },
  {
   "cell_type": "code",
   "execution_count": 15,
   "id": "d6655587",
   "metadata": {},
   "outputs": [
    {
     "data": {
      "text/plain": [
       "team    Zone\n",
       "Team A  2PT     194\n",
       "        C3       18\n",
       "        NC3      68\n",
       "Team B  2PT     150\n",
       "        C3       12\n",
       "        NC3      62\n",
       "Name: x, dtype: int64"
      ]
     },
     "execution_count": 15,
     "metadata": {},
     "output_type": "execute_result"
    }
   ],
   "source": [
    "zone_count_attempts"
   ]
  },
  {
   "cell_type": "code",
   "execution_count": 16,
   "id": "629649bb",
   "metadata": {},
   "outputs": [
    {
     "data": {
      "text/plain": [
       "194"
      ]
     },
     "execution_count": 16,
     "metadata": {},
     "output_type": "execute_result"
    }
   ],
   "source": [
    "zone_count_attempts['Team A']['2PT']"
   ]
  },
  {
   "cell_type": "markdown",
   "id": "99f480f7",
   "metadata": {},
   "source": [
    "### FGmade count by team"
   ]
  },
  {
   "cell_type": "code",
   "execution_count": 17,
   "id": "4aea5521",
   "metadata": {},
   "outputs": [],
   "source": [
    "fgmade_count = df.groupby(['team', 'fgmade']).count()['Zone']"
   ]
  },
  {
   "cell_type": "code",
   "execution_count": 18,
   "id": "23807556",
   "metadata": {},
   "outputs": [
    {
     "data": {
      "text/plain": [
       "team    fgmade\n",
       "Team A  0         155\n",
       "        1         125\n",
       "Team B  0         132\n",
       "        1          92\n",
       "Name: Zone, dtype: int64"
      ]
     },
     "execution_count": 18,
     "metadata": {},
     "output_type": "execute_result"
    }
   ],
   "source": [
    "fgmade_count"
   ]
  },
  {
   "cell_type": "markdown",
   "id": "f2f72cce",
   "metadata": {},
   "source": [
    "### Attempts by Team"
   ]
  },
  {
   "cell_type": "code",
   "execution_count": 19,
   "id": "88c1ae35",
   "metadata": {},
   "outputs": [],
   "source": [
    "attempt_count = df.groupby(['team']).count()['Zone']"
   ]
  },
  {
   "cell_type": "code",
   "execution_count": 20,
   "id": "63cd617a",
   "metadata": {},
   "outputs": [
    {
     "data": {
      "text/plain": [
       "team\n",
       "Team A    280\n",
       "Team B    224\n",
       "Name: Zone, dtype: int64"
      ]
     },
     "execution_count": 20,
     "metadata": {},
     "output_type": "execute_result"
    }
   ],
   "source": [
    "attempt_count"
   ]
  },
  {
   "cell_type": "markdown",
   "id": "1bf7b872",
   "metadata": {},
   "source": [
    "## Reusable functions to automate the task "
   ]
  },
  {
   "cell_type": "code",
   "execution_count": 21,
   "id": "b68a3756",
   "metadata": {},
   "outputs": [],
   "source": [
    "def get_zone_distribution(dframe):\n",
    "    zone_count_attempts = dframe.groupby(['team','Zone']).count()['x']\n",
    "    attempt_count = dframe.groupby(['team']).count()['Zone']\n",
    "    \n",
    "    a = {}\n",
    "    b = {}\n",
    "    a['2PT'] = zone_count_attempts['Team A']['2PT']/attempt_count['Team A']\n",
    "    a['C3'] = zone_count_attempts['Team A']['C3']/attempt_count['Team A']\n",
    "    a['NC3'] = zone_count_attempts['Team A']['NC3']/attempt_count['Team A']\n",
    "    b['2PT'] = zone_count_attempts['Team B']['2PT']/attempt_count['Team B']\n",
    "    b['C3'] = zone_count_attempts['Team B']['C3']/attempt_count['Team B']\n",
    "    b['NC3'] = zone_count_attempts['Team B']['NC3']/attempt_count['Team B']\n",
    "    \n",
    "    return pd.DataFrame([a, b],index=['Team A', 'Team B'])"
   ]
  },
  {
   "cell_type": "code",
   "execution_count": 22,
   "id": "f2f46695",
   "metadata": {},
   "outputs": [
    {
     "data": {
      "text/html": [
       "<div>\n",
       "<style scoped>\n",
       "    .dataframe tbody tr th:only-of-type {\n",
       "        vertical-align: middle;\n",
       "    }\n",
       "\n",
       "    .dataframe tbody tr th {\n",
       "        vertical-align: top;\n",
       "    }\n",
       "\n",
       "    .dataframe thead th {\n",
       "        text-align: right;\n",
       "    }\n",
       "</style>\n",
       "<table border=\"1\" class=\"dataframe\">\n",
       "  <thead>\n",
       "    <tr style=\"text-align: right;\">\n",
       "      <th></th>\n",
       "      <th>2PT</th>\n",
       "      <th>C3</th>\n",
       "      <th>NC3</th>\n",
       "    </tr>\n",
       "  </thead>\n",
       "  <tbody>\n",
       "    <tr>\n",
       "      <th>Team A</th>\n",
       "      <td>0.692857</td>\n",
       "      <td>0.064286</td>\n",
       "      <td>0.242857</td>\n",
       "    </tr>\n",
       "    <tr>\n",
       "      <th>Team B</th>\n",
       "      <td>0.669643</td>\n",
       "      <td>0.053571</td>\n",
       "      <td>0.276786</td>\n",
       "    </tr>\n",
       "  </tbody>\n",
       "</table>\n",
       "</div>"
      ],
      "text/plain": [
       "             2PT        C3       NC3\n",
       "Team A  0.692857  0.064286  0.242857\n",
       "Team B  0.669643  0.053571  0.276786"
      ]
     },
     "execution_count": 22,
     "metadata": {},
     "output_type": "execute_result"
    }
   ],
   "source": [
    "get_zone_distribution(df)"
   ]
  },
  {
   "cell_type": "code",
   "execution_count": 23,
   "id": "b12d2f67",
   "metadata": {},
   "outputs": [],
   "source": [
    "def get_eFG_byZone(dframe):\n",
    "    \n",
    "    #Distribution of attempts and FG by Zone and Team\n",
    "    zone_count_fgmade = dframe.groupby(['team','Zone','fgmade']).count()['x'] \n",
    "    \n",
    "    #Attempts by Zone\n",
    "    zone_count_attempts = df.groupby(['team','Zone']).count()['x']\n",
    "    \n",
    "    #Distribution of FG and attempts by Team\n",
    "    fgmade_count = dframe.groupby(['team', 'fgmade']).count()['Zone']\n",
    "    \n",
    "    \n",
    "    #FG made in C3 zone\n",
    "    FGM_C3_Team_A = zone_count_fgmade['Team A']['C3'][1]\n",
    "    FGM_C3_Team_B = zone_count_fgmade['Team B']['C3'][1]\n",
    "    #FG Attempts in C3 Zone\n",
    "    FGA_C3_Team_A = zone_count_attempts['Team A']['C3']\n",
    "    FGA_C3_Team_B = zone_count_attempts['Team B']['C3']\n",
    " \n",
    "    \n",
    "    #FG made in NC3 zone\n",
    "    FGM_NC3_Team_A = zone_count_fgmade['Team A']['NC3'][1]\n",
    "    FGM_NC3_Team_B = zone_count_fgmade['Team B']['NC3'][1]\n",
    "    #FG Attempts in NC3 Zone\n",
    "    FGA_NC3_Team_A = zone_count_attempts['Team A']['NC3']\n",
    "    FGA_NC3_Team_B = zone_count_attempts['Team B']['NC3']\n",
    "\n",
    "    \n",
    "    \n",
    "    #FG made in 2P zone\n",
    "    FGM_2P_Team_A = zone_count_fgmade['Team A']['2PT'][1]\n",
    "    FGM_2P_Team_B = zone_count_fgmade['Team B']['2PT'][1]\n",
    "    #FG Attempts in 2p Zone\n",
    "    FGA_2p_Team_A = zone_count_attempts['Team A']['2PT']\n",
    "    FGA_2p_Team_B = zone_count_attempts['Team B']['2PT']\n",
    "\n",
    "\n",
    "\n",
    "    eFG_2P_Team_A = FGM_2P_Team_A / FGA_2p_Team_A\n",
    "    eFG_2P_Team_B = FGM_2P_Team_B / FGA_2p_Team_B\n",
    "    \n",
    "    eFG_C3_Team_A = (FGM_C3_Team_A + (0.5 * FGM_C3_Team_A))/FGA_C3_Team_A\n",
    "    eFG_C3_Team_B = (FGM_C3_Team_B + (0.5 * FGM_C3_Team_B))/FGA_C3_Team_B\n",
    "    \n",
    "    eFG_NC3_Team_A = (FGM_NC3_Team_A + (0.5 * FGM_NC3_Team_A))/FGA_NC3_Team_A\n",
    "    eFG_NC3_Team_B = (FGM_NC3_Team_B + (0.5 * FGM_NC3_Team_B))/FGA_NC3_Team_B\n",
    "    \n",
    "    Team_A = [eFG_2P_Team_A, eFG_NC3_Team_A, eFG_C3_Team_A]\n",
    "    Team_B = [eFG_2P_Team_B, eFG_NC3_Team_B, eFG_C3_Team_B]\n",
    "    \n",
    "    return pd.DataFrame([Team_A, Team_B], index=['Team A', 'Team B'], columns=['2PT', 'NC3', 'C3'])\n"
   ]
  },
  {
   "cell_type": "code",
   "execution_count": 24,
   "id": "404ded9f",
   "metadata": {},
   "outputs": [
    {
     "data": {
      "text/html": [
       "<div>\n",
       "<style scoped>\n",
       "    .dataframe tbody tr th:only-of-type {\n",
       "        vertical-align: middle;\n",
       "    }\n",
       "\n",
       "    .dataframe tbody tr th {\n",
       "        vertical-align: top;\n",
       "    }\n",
       "\n",
       "    .dataframe thead th {\n",
       "        text-align: right;\n",
       "    }\n",
       "</style>\n",
       "<table border=\"1\" class=\"dataframe\">\n",
       "  <thead>\n",
       "    <tr style=\"text-align: right;\">\n",
       "      <th></th>\n",
       "      <th>2PT</th>\n",
       "      <th>NC3</th>\n",
       "      <th>C3</th>\n",
       "    </tr>\n",
       "  </thead>\n",
       "  <tbody>\n",
       "    <tr>\n",
       "      <th>Team A</th>\n",
       "      <td>0.489691</td>\n",
       "      <td>0.463235</td>\n",
       "      <td>0.75</td>\n",
       "    </tr>\n",
       "    <tr>\n",
       "      <th>Team B</th>\n",
       "      <td>0.446667</td>\n",
       "      <td>0.508065</td>\n",
       "      <td>0.50</td>\n",
       "    </tr>\n",
       "  </tbody>\n",
       "</table>\n",
       "</div>"
      ],
      "text/plain": [
       "             2PT       NC3    C3\n",
       "Team A  0.489691  0.463235  0.75\n",
       "Team B  0.446667  0.508065  0.50"
      ]
     },
     "execution_count": 24,
     "metadata": {},
     "output_type": "execute_result"
    }
   ],
   "source": [
    "get_eFG_byZone(df)"
   ]
  }
 ],
 "metadata": {
  "kernelspec": {
   "display_name": "Python 3 (ipykernel)",
   "language": "python",
   "name": "python3"
  },
  "language_info": {
   "codemirror_mode": {
    "name": "ipython",
    "version": 3
   },
   "file_extension": ".py",
   "mimetype": "text/x-python",
   "name": "python",
   "nbconvert_exporter": "python",
   "pygments_lexer": "ipython3",
   "version": "3.9.12"
  }
 },
 "nbformat": 4,
 "nbformat_minor": 5
}
